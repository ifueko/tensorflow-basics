{
  "nbformat": 4,
  "nbformat_minor": 0,
  "metadata": {
    "colab": {
      "name": "Facial Recognition: Video Reconstruction",
      "provenance": [],
      "collapsed_sections": []
    },
    "kernelspec": {
      "name": "python3",
      "display_name": "Python 3"
    },
    "accelerator": "GPU",
    "widgets": {
      "application/vnd.jupyter.widget-state+json": {
        "9a92f8ea019144cab200edabbb0bff89": {
          "model_module": "@jupyter-widgets/controls",
          "model_name": "HBoxModel",
          "state": {
            "_view_name": "HBoxView",
            "_dom_classes": [],
            "_model_name": "HBoxModel",
            "_view_module": "@jupyter-widgets/controls",
            "_model_module_version": "1.5.0",
            "_view_count": null,
            "_view_module_version": "1.5.0",
            "box_style": "",
            "layout": "IPY_MODEL_04c72079661e41e3aadaadf823475d4b",
            "_model_module": "@jupyter-widgets/controls",
            "children": [
              "IPY_MODEL_7f7c4f9d06e648e3ade6e3368c7ad75e",
              "IPY_MODEL_d450bd4da50c404cbb423d9f461ca2b6"
            ]
          }
        },
        "04c72079661e41e3aadaadf823475d4b": {
          "model_module": "@jupyter-widgets/base",
          "model_name": "LayoutModel",
          "state": {
            "_view_name": "LayoutView",
            "grid_template_rows": null,
            "right": null,
            "justify_content": null,
            "_view_module": "@jupyter-widgets/base",
            "overflow": null,
            "_model_module_version": "1.2.0",
            "_view_count": null,
            "flex_flow": null,
            "width": null,
            "min_width": null,
            "border": null,
            "align_items": null,
            "bottom": null,
            "_model_module": "@jupyter-widgets/base",
            "top": null,
            "grid_column": null,
            "overflow_y": null,
            "overflow_x": null,
            "grid_auto_flow": null,
            "grid_area": null,
            "grid_template_columns": null,
            "flex": null,
            "_model_name": "LayoutModel",
            "justify_items": null,
            "grid_row": null,
            "max_height": null,
            "align_content": null,
            "visibility": null,
            "align_self": null,
            "height": null,
            "min_height": null,
            "padding": null,
            "grid_auto_rows": null,
            "grid_gap": null,
            "max_width": null,
            "order": null,
            "_view_module_version": "1.2.0",
            "grid_template_areas": null,
            "object_position": null,
            "object_fit": null,
            "grid_auto_columns": null,
            "margin": null,
            "display": null,
            "left": null
          }
        },
        "7f7c4f9d06e648e3ade6e3368c7ad75e": {
          "model_module": "@jupyter-widgets/controls",
          "model_name": "FloatProgressModel",
          "state": {
            "_view_name": "ProgressView",
            "style": "IPY_MODEL_40160e9159b24217b303b73f58a565f6",
            "_dom_classes": [],
            "description": "100%",
            "_model_name": "FloatProgressModel",
            "bar_style": "",
            "max": 7312,
            "_view_module": "@jupyter-widgets/controls",
            "_model_module_version": "1.5.0",
            "value": 7312,
            "_view_count": null,
            "_view_module_version": "1.5.0",
            "orientation": "horizontal",
            "min": 0,
            "description_tooltip": null,
            "_model_module": "@jupyter-widgets/controls",
            "layout": "IPY_MODEL_15b0bba0b5fa4c2aa5ee47f660f48943"
          }
        },
        "d450bd4da50c404cbb423d9f461ca2b6": {
          "model_module": "@jupyter-widgets/controls",
          "model_name": "HTMLModel",
          "state": {
            "_view_name": "HTMLView",
            "style": "IPY_MODEL_2c5ce08dbfe84d35befc61ed2c1236be",
            "_dom_classes": [],
            "description": "",
            "_model_name": "HTMLModel",
            "placeholder": "​",
            "_view_module": "@jupyter-widgets/controls",
            "_model_module_version": "1.5.0",
            "value": " 7312/7312.0 [1:17:33&lt;00:00,  7.20it/s]",
            "_view_count": null,
            "_view_module_version": "1.5.0",
            "description_tooltip": null,
            "_model_module": "@jupyter-widgets/controls",
            "layout": "IPY_MODEL_85d7057f1a28469396ff83b6ee63b135"
          }
        },
        "40160e9159b24217b303b73f58a565f6": {
          "model_module": "@jupyter-widgets/controls",
          "model_name": "ProgressStyleModel",
          "state": {
            "_view_name": "StyleView",
            "_model_name": "ProgressStyleModel",
            "description_width": "initial",
            "_view_module": "@jupyter-widgets/base",
            "_model_module_version": "1.5.0",
            "_view_count": null,
            "_view_module_version": "1.2.0",
            "bar_color": null,
            "_model_module": "@jupyter-widgets/controls"
          }
        },
        "15b0bba0b5fa4c2aa5ee47f660f48943": {
          "model_module": "@jupyter-widgets/base",
          "model_name": "LayoutModel",
          "state": {
            "_view_name": "LayoutView",
            "grid_template_rows": null,
            "right": null,
            "justify_content": null,
            "_view_module": "@jupyter-widgets/base",
            "overflow": null,
            "_model_module_version": "1.2.0",
            "_view_count": null,
            "flex_flow": null,
            "width": null,
            "min_width": null,
            "border": null,
            "align_items": null,
            "bottom": null,
            "_model_module": "@jupyter-widgets/base",
            "top": null,
            "grid_column": null,
            "overflow_y": null,
            "overflow_x": null,
            "grid_auto_flow": null,
            "grid_area": null,
            "grid_template_columns": null,
            "flex": null,
            "_model_name": "LayoutModel",
            "justify_items": null,
            "grid_row": null,
            "max_height": null,
            "align_content": null,
            "visibility": null,
            "align_self": null,
            "height": null,
            "min_height": null,
            "padding": null,
            "grid_auto_rows": null,
            "grid_gap": null,
            "max_width": null,
            "order": null,
            "_view_module_version": "1.2.0",
            "grid_template_areas": null,
            "object_position": null,
            "object_fit": null,
            "grid_auto_columns": null,
            "margin": null,
            "display": null,
            "left": null
          }
        },
        "2c5ce08dbfe84d35befc61ed2c1236be": {
          "model_module": "@jupyter-widgets/controls",
          "model_name": "DescriptionStyleModel",
          "state": {
            "_view_name": "StyleView",
            "_model_name": "DescriptionStyleModel",
            "description_width": "",
            "_view_module": "@jupyter-widgets/base",
            "_model_module_version": "1.5.0",
            "_view_count": null,
            "_view_module_version": "1.2.0",
            "_model_module": "@jupyter-widgets/controls"
          }
        },
        "85d7057f1a28469396ff83b6ee63b135": {
          "model_module": "@jupyter-widgets/base",
          "model_name": "LayoutModel",
          "state": {
            "_view_name": "LayoutView",
            "grid_template_rows": null,
            "right": null,
            "justify_content": null,
            "_view_module": "@jupyter-widgets/base",
            "overflow": null,
            "_model_module_version": "1.2.0",
            "_view_count": null,
            "flex_flow": null,
            "width": null,
            "min_width": null,
            "border": null,
            "align_items": null,
            "bottom": null,
            "_model_module": "@jupyter-widgets/base",
            "top": null,
            "grid_column": null,
            "overflow_y": null,
            "overflow_x": null,
            "grid_auto_flow": null,
            "grid_area": null,
            "grid_template_columns": null,
            "flex": null,
            "_model_name": "LayoutModel",
            "justify_items": null,
            "grid_row": null,
            "max_height": null,
            "align_content": null,
            "visibility": null,
            "align_self": null,
            "height": null,
            "min_height": null,
            "padding": null,
            "grid_auto_rows": null,
            "grid_gap": null,
            "max_width": null,
            "order": null,
            "_view_module_version": "1.2.0",
            "grid_template_areas": null,
            "object_position": null,
            "object_fit": null,
            "grid_auto_columns": null,
            "margin": null,
            "display": null,
            "left": null
          }
        },
        "63b711e091e44ac3bdd23dd7cf7c2f45": {
          "model_module": "@jupyter-widgets/controls",
          "model_name": "HBoxModel",
          "state": {
            "_view_name": "HBoxView",
            "_dom_classes": [],
            "_model_name": "HBoxModel",
            "_view_module": "@jupyter-widgets/controls",
            "_model_module_version": "1.5.0",
            "_view_count": null,
            "_view_module_version": "1.5.0",
            "box_style": "",
            "layout": "IPY_MODEL_d4d9048c4a6544d9af984c328e35bfa7",
            "_model_module": "@jupyter-widgets/controls",
            "children": [
              "IPY_MODEL_12c53c6372bb4e389d486b1c1ee2c9c8",
              "IPY_MODEL_17a00f17b25b427fa5fae8ebf8cfe7a8"
            ]
          }
        },
        "d4d9048c4a6544d9af984c328e35bfa7": {
          "model_module": "@jupyter-widgets/base",
          "model_name": "LayoutModel",
          "state": {
            "_view_name": "LayoutView",
            "grid_template_rows": null,
            "right": null,
            "justify_content": null,
            "_view_module": "@jupyter-widgets/base",
            "overflow": null,
            "_model_module_version": "1.2.0",
            "_view_count": null,
            "flex_flow": null,
            "width": null,
            "min_width": null,
            "border": null,
            "align_items": null,
            "bottom": null,
            "_model_module": "@jupyter-widgets/base",
            "top": null,
            "grid_column": null,
            "overflow_y": null,
            "overflow_x": null,
            "grid_auto_flow": null,
            "grid_area": null,
            "grid_template_columns": null,
            "flex": null,
            "_model_name": "LayoutModel",
            "justify_items": null,
            "grid_row": null,
            "max_height": null,
            "align_content": null,
            "visibility": null,
            "align_self": null,
            "height": null,
            "min_height": null,
            "padding": null,
            "grid_auto_rows": null,
            "grid_gap": null,
            "max_width": null,
            "order": null,
            "_view_module_version": "1.2.0",
            "grid_template_areas": null,
            "object_position": null,
            "object_fit": null,
            "grid_auto_columns": null,
            "margin": null,
            "display": null,
            "left": null
          }
        },
        "12c53c6372bb4e389d486b1c1ee2c9c8": {
          "model_module": "@jupyter-widgets/controls",
          "model_name": "FloatProgressModel",
          "state": {
            "_view_name": "ProgressView",
            "style": "IPY_MODEL_fdf5b606861b4322ad44ee5342ddaa33",
            "_dom_classes": [],
            "description": "100%",
            "_model_name": "FloatProgressModel",
            "bar_style": "",
            "max": 7055,
            "_view_module": "@jupyter-widgets/controls",
            "_model_module_version": "1.5.0",
            "value": 7055,
            "_view_count": null,
            "_view_module_version": "1.5.0",
            "orientation": "horizontal",
            "min": 0,
            "description_tooltip": null,
            "_model_module": "@jupyter-widgets/controls",
            "layout": "IPY_MODEL_683e45f885204e03a02c6a96a771a84c"
          }
        },
        "17a00f17b25b427fa5fae8ebf8cfe7a8": {
          "model_module": "@jupyter-widgets/controls",
          "model_name": "HTMLModel",
          "state": {
            "_view_name": "HTMLView",
            "style": "IPY_MODEL_6d65d77dbc58481b935df5579689969b",
            "_dom_classes": [],
            "description": "",
            "_model_name": "HTMLModel",
            "placeholder": "​",
            "_view_module": "@jupyter-widgets/controls",
            "_model_module_version": "1.5.0",
            "value": " 7055/7055.0 [22:16&lt;00:00,  5.76it/s]",
            "_view_count": null,
            "_view_module_version": "1.5.0",
            "description_tooltip": null,
            "_model_module": "@jupyter-widgets/controls",
            "layout": "IPY_MODEL_c0fb42cca9774643a581856d5c26870f"
          }
        },
        "fdf5b606861b4322ad44ee5342ddaa33": {
          "model_module": "@jupyter-widgets/controls",
          "model_name": "ProgressStyleModel",
          "state": {
            "_view_name": "StyleView",
            "_model_name": "ProgressStyleModel",
            "description_width": "initial",
            "_view_module": "@jupyter-widgets/base",
            "_model_module_version": "1.5.0",
            "_view_count": null,
            "_view_module_version": "1.2.0",
            "bar_color": null,
            "_model_module": "@jupyter-widgets/controls"
          }
        },
        "683e45f885204e03a02c6a96a771a84c": {
          "model_module": "@jupyter-widgets/base",
          "model_name": "LayoutModel",
          "state": {
            "_view_name": "LayoutView",
            "grid_template_rows": null,
            "right": null,
            "justify_content": null,
            "_view_module": "@jupyter-widgets/base",
            "overflow": null,
            "_model_module_version": "1.2.0",
            "_view_count": null,
            "flex_flow": null,
            "width": null,
            "min_width": null,
            "border": null,
            "align_items": null,
            "bottom": null,
            "_model_module": "@jupyter-widgets/base",
            "top": null,
            "grid_column": null,
            "overflow_y": null,
            "overflow_x": null,
            "grid_auto_flow": null,
            "grid_area": null,
            "grid_template_columns": null,
            "flex": null,
            "_model_name": "LayoutModel",
            "justify_items": null,
            "grid_row": null,
            "max_height": null,
            "align_content": null,
            "visibility": null,
            "align_self": null,
            "height": null,
            "min_height": null,
            "padding": null,
            "grid_auto_rows": null,
            "grid_gap": null,
            "max_width": null,
            "order": null,
            "_view_module_version": "1.2.0",
            "grid_template_areas": null,
            "object_position": null,
            "object_fit": null,
            "grid_auto_columns": null,
            "margin": null,
            "display": null,
            "left": null
          }
        },
        "6d65d77dbc58481b935df5579689969b": {
          "model_module": "@jupyter-widgets/controls",
          "model_name": "DescriptionStyleModel",
          "state": {
            "_view_name": "StyleView",
            "_model_name": "DescriptionStyleModel",
            "description_width": "",
            "_view_module": "@jupyter-widgets/base",
            "_model_module_version": "1.5.0",
            "_view_count": null,
            "_view_module_version": "1.2.0",
            "_model_module": "@jupyter-widgets/controls"
          }
        },
        "c0fb42cca9774643a581856d5c26870f": {
          "model_module": "@jupyter-widgets/base",
          "model_name": "LayoutModel",
          "state": {
            "_view_name": "LayoutView",
            "grid_template_rows": null,
            "right": null,
            "justify_content": null,
            "_view_module": "@jupyter-widgets/base",
            "overflow": null,
            "_model_module_version": "1.2.0",
            "_view_count": null,
            "flex_flow": null,
            "width": null,
            "min_width": null,
            "border": null,
            "align_items": null,
            "bottom": null,
            "_model_module": "@jupyter-widgets/base",
            "top": null,
            "grid_column": null,
            "overflow_y": null,
            "overflow_x": null,
            "grid_auto_flow": null,
            "grid_area": null,
            "grid_template_columns": null,
            "flex": null,
            "_model_name": "LayoutModel",
            "justify_items": null,
            "grid_row": null,
            "max_height": null,
            "align_content": null,
            "visibility": null,
            "align_self": null,
            "height": null,
            "min_height": null,
            "padding": null,
            "grid_auto_rows": null,
            "grid_gap": null,
            "max_width": null,
            "order": null,
            "_view_module_version": "1.2.0",
            "grid_template_areas": null,
            "object_position": null,
            "object_fit": null,
            "grid_auto_columns": null,
            "margin": null,
            "display": null,
            "left": null
          }
        },
        "7135d78a5a14411e932a5d978044e0a1": {
          "model_module": "@jupyter-widgets/controls",
          "model_name": "HBoxModel",
          "state": {
            "_view_name": "HBoxView",
            "_dom_classes": [],
            "_model_name": "HBoxModel",
            "_view_module": "@jupyter-widgets/controls",
            "_model_module_version": "1.5.0",
            "_view_count": null,
            "_view_module_version": "1.5.0",
            "box_style": "",
            "layout": "IPY_MODEL_71be2f90a4ae49ae9277931eeea916a6",
            "_model_module": "@jupyter-widgets/controls",
            "children": [
              "IPY_MODEL_bacd359b424a4cc785c9ddca0c278a27",
              "IPY_MODEL_7ee520aa8bdb4e38b9f6158b1bf1eeb4"
            ]
          }
        },
        "71be2f90a4ae49ae9277931eeea916a6": {
          "model_module": "@jupyter-widgets/base",
          "model_name": "LayoutModel",
          "state": {
            "_view_name": "LayoutView",
            "grid_template_rows": null,
            "right": null,
            "justify_content": null,
            "_view_module": "@jupyter-widgets/base",
            "overflow": null,
            "_model_module_version": "1.2.0",
            "_view_count": null,
            "flex_flow": null,
            "width": null,
            "min_width": null,
            "border": null,
            "align_items": null,
            "bottom": null,
            "_model_module": "@jupyter-widgets/base",
            "top": null,
            "grid_column": null,
            "overflow_y": null,
            "overflow_x": null,
            "grid_auto_flow": null,
            "grid_area": null,
            "grid_template_columns": null,
            "flex": null,
            "_model_name": "LayoutModel",
            "justify_items": null,
            "grid_row": null,
            "max_height": null,
            "align_content": null,
            "visibility": null,
            "align_self": null,
            "height": null,
            "min_height": null,
            "padding": null,
            "grid_auto_rows": null,
            "grid_gap": null,
            "max_width": null,
            "order": null,
            "_view_module_version": "1.2.0",
            "grid_template_areas": null,
            "object_position": null,
            "object_fit": null,
            "grid_auto_columns": null,
            "margin": null,
            "display": null,
            "left": null
          }
        },
        "bacd359b424a4cc785c9ddca0c278a27": {
          "model_module": "@jupyter-widgets/controls",
          "model_name": "FloatProgressModel",
          "state": {
            "_view_name": "ProgressView",
            "style": "IPY_MODEL_a71031a261024e16a087208595181e36",
            "_dom_classes": [],
            "description": "100%",
            "_model_name": "FloatProgressModel",
            "bar_style": "",
            "max": 6256,
            "_view_module": "@jupyter-widgets/controls",
            "_model_module_version": "1.5.0",
            "value": 6256,
            "_view_count": null,
            "_view_module_version": "1.5.0",
            "orientation": "horizontal",
            "min": 0,
            "description_tooltip": null,
            "_model_module": "@jupyter-widgets/controls",
            "layout": "IPY_MODEL_ee62ef3dbf164f92bc410502403ae61e"
          }
        },
        "7ee520aa8bdb4e38b9f6158b1bf1eeb4": {
          "model_module": "@jupyter-widgets/controls",
          "model_name": "HTMLModel",
          "state": {
            "_view_name": "HTMLView",
            "style": "IPY_MODEL_772282a379704750892d00064ef7e116",
            "_dom_classes": [],
            "description": "",
            "_model_name": "HTMLModel",
            "placeholder": "​",
            "_view_module": "@jupyter-widgets/controls",
            "_model_module_version": "1.5.0",
            "value": " 6256/6256.0 [16:20&lt;00:00,  7.34it/s]",
            "_view_count": null,
            "_view_module_version": "1.5.0",
            "description_tooltip": null,
            "_model_module": "@jupyter-widgets/controls",
            "layout": "IPY_MODEL_87dd6c89d7014be28ddf2ce4510a594e"
          }
        },
        "a71031a261024e16a087208595181e36": {
          "model_module": "@jupyter-widgets/controls",
          "model_name": "ProgressStyleModel",
          "state": {
            "_view_name": "StyleView",
            "_model_name": "ProgressStyleModel",
            "description_width": "initial",
            "_view_module": "@jupyter-widgets/base",
            "_model_module_version": "1.5.0",
            "_view_count": null,
            "_view_module_version": "1.2.0",
            "bar_color": null,
            "_model_module": "@jupyter-widgets/controls"
          }
        },
        "ee62ef3dbf164f92bc410502403ae61e": {
          "model_module": "@jupyter-widgets/base",
          "model_name": "LayoutModel",
          "state": {
            "_view_name": "LayoutView",
            "grid_template_rows": null,
            "right": null,
            "justify_content": null,
            "_view_module": "@jupyter-widgets/base",
            "overflow": null,
            "_model_module_version": "1.2.0",
            "_view_count": null,
            "flex_flow": null,
            "width": null,
            "min_width": null,
            "border": null,
            "align_items": null,
            "bottom": null,
            "_model_module": "@jupyter-widgets/base",
            "top": null,
            "grid_column": null,
            "overflow_y": null,
            "overflow_x": null,
            "grid_auto_flow": null,
            "grid_area": null,
            "grid_template_columns": null,
            "flex": null,
            "_model_name": "LayoutModel",
            "justify_items": null,
            "grid_row": null,
            "max_height": null,
            "align_content": null,
            "visibility": null,
            "align_self": null,
            "height": null,
            "min_height": null,
            "padding": null,
            "grid_auto_rows": null,
            "grid_gap": null,
            "max_width": null,
            "order": null,
            "_view_module_version": "1.2.0",
            "grid_template_areas": null,
            "object_position": null,
            "object_fit": null,
            "grid_auto_columns": null,
            "margin": null,
            "display": null,
            "left": null
          }
        },
        "772282a379704750892d00064ef7e116": {
          "model_module": "@jupyter-widgets/controls",
          "model_name": "DescriptionStyleModel",
          "state": {
            "_view_name": "StyleView",
            "_model_name": "DescriptionStyleModel",
            "description_width": "",
            "_view_module": "@jupyter-widgets/base",
            "_model_module_version": "1.5.0",
            "_view_count": null,
            "_view_module_version": "1.2.0",
            "_model_module": "@jupyter-widgets/controls"
          }
        },
        "87dd6c89d7014be28ddf2ce4510a594e": {
          "model_module": "@jupyter-widgets/base",
          "model_name": "LayoutModel",
          "state": {
            "_view_name": "LayoutView",
            "grid_template_rows": null,
            "right": null,
            "justify_content": null,
            "_view_module": "@jupyter-widgets/base",
            "overflow": null,
            "_model_module_version": "1.2.0",
            "_view_count": null,
            "flex_flow": null,
            "width": null,
            "min_width": null,
            "border": null,
            "align_items": null,
            "bottom": null,
            "_model_module": "@jupyter-widgets/base",
            "top": null,
            "grid_column": null,
            "overflow_y": null,
            "overflow_x": null,
            "grid_auto_flow": null,
            "grid_area": null,
            "grid_template_columns": null,
            "flex": null,
            "_model_name": "LayoutModel",
            "justify_items": null,
            "grid_row": null,
            "max_height": null,
            "align_content": null,
            "visibility": null,
            "align_self": null,
            "height": null,
            "min_height": null,
            "padding": null,
            "grid_auto_rows": null,
            "grid_gap": null,
            "max_width": null,
            "order": null,
            "_view_module_version": "1.2.0",
            "grid_template_areas": null,
            "object_position": null,
            "object_fit": null,
            "grid_auto_columns": null,
            "margin": null,
            "display": null,
            "left": null
          }
        },
        "b2e876a8b5154ff4b1f298fda2edd248": {
          "model_module": "@jupyter-widgets/controls",
          "model_name": "HBoxModel",
          "state": {
            "_view_name": "HBoxView",
            "_dom_classes": [],
            "_model_name": "HBoxModel",
            "_view_module": "@jupyter-widgets/controls",
            "_model_module_version": "1.5.0",
            "_view_count": null,
            "_view_module_version": "1.5.0",
            "box_style": "",
            "layout": "IPY_MODEL_d23cd059484c4845888632a49cc35296",
            "_model_module": "@jupyter-widgets/controls",
            "children": [
              "IPY_MODEL_a8db030543a4464db0b7333693f6fbd5",
              "IPY_MODEL_93c3984a4bd34ae898d9047d698fb2bb"
            ]
          }
        },
        "d23cd059484c4845888632a49cc35296": {
          "model_module": "@jupyter-widgets/base",
          "model_name": "LayoutModel",
          "state": {
            "_view_name": "LayoutView",
            "grid_template_rows": null,
            "right": null,
            "justify_content": null,
            "_view_module": "@jupyter-widgets/base",
            "overflow": null,
            "_model_module_version": "1.2.0",
            "_view_count": null,
            "flex_flow": null,
            "width": null,
            "min_width": null,
            "border": null,
            "align_items": null,
            "bottom": null,
            "_model_module": "@jupyter-widgets/base",
            "top": null,
            "grid_column": null,
            "overflow_y": null,
            "overflow_x": null,
            "grid_auto_flow": null,
            "grid_area": null,
            "grid_template_columns": null,
            "flex": null,
            "_model_name": "LayoutModel",
            "justify_items": null,
            "grid_row": null,
            "max_height": null,
            "align_content": null,
            "visibility": null,
            "align_self": null,
            "height": null,
            "min_height": null,
            "padding": null,
            "grid_auto_rows": null,
            "grid_gap": null,
            "max_width": null,
            "order": null,
            "_view_module_version": "1.2.0",
            "grid_template_areas": null,
            "object_position": null,
            "object_fit": null,
            "grid_auto_columns": null,
            "margin": null,
            "display": null,
            "left": null
          }
        },
        "a8db030543a4464db0b7333693f6fbd5": {
          "model_module": "@jupyter-widgets/controls",
          "model_name": "FloatProgressModel",
          "state": {
            "_view_name": "ProgressView",
            "style": "IPY_MODEL_62255f99770d43cbbfaf87ebb5af2420",
            "_dom_classes": [],
            "description": "100%",
            "_model_name": "FloatProgressModel",
            "bar_style": "",
            "max": 7477,
            "_view_module": "@jupyter-widgets/controls",
            "_model_module_version": "1.5.0",
            "value": 7477,
            "_view_count": null,
            "_view_module_version": "1.5.0",
            "orientation": "horizontal",
            "min": 0,
            "description_tooltip": null,
            "_model_module": "@jupyter-widgets/controls",
            "layout": "IPY_MODEL_97d81eb1614545c9aa618905b69f059e"
          }
        },
        "93c3984a4bd34ae898d9047d698fb2bb": {
          "model_module": "@jupyter-widgets/controls",
          "model_name": "HTMLModel",
          "state": {
            "_view_name": "HTMLView",
            "style": "IPY_MODEL_cfa56a8e1cf74d189ba1063760ff9028",
            "_dom_classes": [],
            "description": "",
            "_model_name": "HTMLModel",
            "placeholder": "​",
            "_view_module": "@jupyter-widgets/controls",
            "_model_module_version": "1.5.0",
            "value": " 7477/7477.0 [24:58&lt;00:00,  5.71it/s]",
            "_view_count": null,
            "_view_module_version": "1.5.0",
            "description_tooltip": null,
            "_model_module": "@jupyter-widgets/controls",
            "layout": "IPY_MODEL_6d88b2c23c704a8f9f6d2a74d51774bc"
          }
        },
        "62255f99770d43cbbfaf87ebb5af2420": {
          "model_module": "@jupyter-widgets/controls",
          "model_name": "ProgressStyleModel",
          "state": {
            "_view_name": "StyleView",
            "_model_name": "ProgressStyleModel",
            "description_width": "initial",
            "_view_module": "@jupyter-widgets/base",
            "_model_module_version": "1.5.0",
            "_view_count": null,
            "_view_module_version": "1.2.0",
            "bar_color": null,
            "_model_module": "@jupyter-widgets/controls"
          }
        },
        "97d81eb1614545c9aa618905b69f059e": {
          "model_module": "@jupyter-widgets/base",
          "model_name": "LayoutModel",
          "state": {
            "_view_name": "LayoutView",
            "grid_template_rows": null,
            "right": null,
            "justify_content": null,
            "_view_module": "@jupyter-widgets/base",
            "overflow": null,
            "_model_module_version": "1.2.0",
            "_view_count": null,
            "flex_flow": null,
            "width": null,
            "min_width": null,
            "border": null,
            "align_items": null,
            "bottom": null,
            "_model_module": "@jupyter-widgets/base",
            "top": null,
            "grid_column": null,
            "overflow_y": null,
            "overflow_x": null,
            "grid_auto_flow": null,
            "grid_area": null,
            "grid_template_columns": null,
            "flex": null,
            "_model_name": "LayoutModel",
            "justify_items": null,
            "grid_row": null,
            "max_height": null,
            "align_content": null,
            "visibility": null,
            "align_self": null,
            "height": null,
            "min_height": null,
            "padding": null,
            "grid_auto_rows": null,
            "grid_gap": null,
            "max_width": null,
            "order": null,
            "_view_module_version": "1.2.0",
            "grid_template_areas": null,
            "object_position": null,
            "object_fit": null,
            "grid_auto_columns": null,
            "margin": null,
            "display": null,
            "left": null
          }
        },
        "cfa56a8e1cf74d189ba1063760ff9028": {
          "model_module": "@jupyter-widgets/controls",
          "model_name": "DescriptionStyleModel",
          "state": {
            "_view_name": "StyleView",
            "_model_name": "DescriptionStyleModel",
            "description_width": "",
            "_view_module": "@jupyter-widgets/base",
            "_model_module_version": "1.5.0",
            "_view_count": null,
            "_view_module_version": "1.2.0",
            "_model_module": "@jupyter-widgets/controls"
          }
        },
        "6d88b2c23c704a8f9f6d2a74d51774bc": {
          "model_module": "@jupyter-widgets/base",
          "model_name": "LayoutModel",
          "state": {
            "_view_name": "LayoutView",
            "grid_template_rows": null,
            "right": null,
            "justify_content": null,
            "_view_module": "@jupyter-widgets/base",
            "overflow": null,
            "_model_module_version": "1.2.0",
            "_view_count": null,
            "flex_flow": null,
            "width": null,
            "min_width": null,
            "border": null,
            "align_items": null,
            "bottom": null,
            "_model_module": "@jupyter-widgets/base",
            "top": null,
            "grid_column": null,
            "overflow_y": null,
            "overflow_x": null,
            "grid_auto_flow": null,
            "grid_area": null,
            "grid_template_columns": null,
            "flex": null,
            "_model_name": "LayoutModel",
            "justify_items": null,
            "grid_row": null,
            "max_height": null,
            "align_content": null,
            "visibility": null,
            "align_self": null,
            "height": null,
            "min_height": null,
            "padding": null,
            "grid_auto_rows": null,
            "grid_gap": null,
            "max_width": null,
            "order": null,
            "_view_module_version": "1.2.0",
            "grid_template_areas": null,
            "object_position": null,
            "object_fit": null,
            "grid_auto_columns": null,
            "margin": null,
            "display": null,
            "left": null
          }
        },
        "352da7517d144b449d39a4b228d09f54": {
          "model_module": "@jupyter-widgets/controls",
          "model_name": "HBoxModel",
          "state": {
            "_view_name": "HBoxView",
            "_dom_classes": [],
            "_model_name": "HBoxModel",
            "_view_module": "@jupyter-widgets/controls",
            "_model_module_version": "1.5.0",
            "_view_count": null,
            "_view_module_version": "1.5.0",
            "box_style": "",
            "layout": "IPY_MODEL_081ec23b5fc042288b1eeaa9ae3b8e16",
            "_model_module": "@jupyter-widgets/controls",
            "children": [
              "IPY_MODEL_2e0bac99ecc949c3a986aed7495adca4",
              "IPY_MODEL_8d70afd5a1b24401ac18da4af074c01b"
            ]
          }
        },
        "081ec23b5fc042288b1eeaa9ae3b8e16": {
          "model_module": "@jupyter-widgets/base",
          "model_name": "LayoutModel",
          "state": {
            "_view_name": "LayoutView",
            "grid_template_rows": null,
            "right": null,
            "justify_content": null,
            "_view_module": "@jupyter-widgets/base",
            "overflow": null,
            "_model_module_version": "1.2.0",
            "_view_count": null,
            "flex_flow": null,
            "width": null,
            "min_width": null,
            "border": null,
            "align_items": null,
            "bottom": null,
            "_model_module": "@jupyter-widgets/base",
            "top": null,
            "grid_column": null,
            "overflow_y": null,
            "overflow_x": null,
            "grid_auto_flow": null,
            "grid_area": null,
            "grid_template_columns": null,
            "flex": null,
            "_model_name": "LayoutModel",
            "justify_items": null,
            "grid_row": null,
            "max_height": null,
            "align_content": null,
            "visibility": null,
            "align_self": null,
            "height": null,
            "min_height": null,
            "padding": null,
            "grid_auto_rows": null,
            "grid_gap": null,
            "max_width": null,
            "order": null,
            "_view_module_version": "1.2.0",
            "grid_template_areas": null,
            "object_position": null,
            "object_fit": null,
            "grid_auto_columns": null,
            "margin": null,
            "display": null,
            "left": null
          }
        },
        "2e0bac99ecc949c3a986aed7495adca4": {
          "model_module": "@jupyter-widgets/controls",
          "model_name": "FloatProgressModel",
          "state": {
            "_view_name": "ProgressView",
            "style": "IPY_MODEL_f5be75d16377483c8fc10b724503622d",
            "_dom_classes": [],
            "description": "100%",
            "_model_name": "FloatProgressModel",
            "bar_style": "",
            "max": 7446,
            "_view_module": "@jupyter-widgets/controls",
            "_model_module_version": "1.5.0",
            "value": 7446,
            "_view_count": null,
            "_view_module_version": "1.5.0",
            "orientation": "horizontal",
            "min": 0,
            "description_tooltip": null,
            "_model_module": "@jupyter-widgets/controls",
            "layout": "IPY_MODEL_fddedb60b4c74182924d9f560954d0c1"
          }
        },
        "8d70afd5a1b24401ac18da4af074c01b": {
          "model_module": "@jupyter-widgets/controls",
          "model_name": "HTMLModel",
          "state": {
            "_view_name": "HTMLView",
            "style": "IPY_MODEL_b0c0c78223b74cd096576e83c887f8d8",
            "_dom_classes": [],
            "description": "",
            "_model_name": "HTMLModel",
            "placeholder": "​",
            "_view_module": "@jupyter-widgets/controls",
            "_model_module_version": "1.5.0",
            "value": " 7446/7446.0 [25:49&lt;00:00,  5.55it/s]",
            "_view_count": null,
            "_view_module_version": "1.5.0",
            "description_tooltip": null,
            "_model_module": "@jupyter-widgets/controls",
            "layout": "IPY_MODEL_2d2c231ee6a14262a5973a82692a42aa"
          }
        },
        "f5be75d16377483c8fc10b724503622d": {
          "model_module": "@jupyter-widgets/controls",
          "model_name": "ProgressStyleModel",
          "state": {
            "_view_name": "StyleView",
            "_model_name": "ProgressStyleModel",
            "description_width": "initial",
            "_view_module": "@jupyter-widgets/base",
            "_model_module_version": "1.5.0",
            "_view_count": null,
            "_view_module_version": "1.2.0",
            "bar_color": null,
            "_model_module": "@jupyter-widgets/controls"
          }
        },
        "fddedb60b4c74182924d9f560954d0c1": {
          "model_module": "@jupyter-widgets/base",
          "model_name": "LayoutModel",
          "state": {
            "_view_name": "LayoutView",
            "grid_template_rows": null,
            "right": null,
            "justify_content": null,
            "_view_module": "@jupyter-widgets/base",
            "overflow": null,
            "_model_module_version": "1.2.0",
            "_view_count": null,
            "flex_flow": null,
            "width": null,
            "min_width": null,
            "border": null,
            "align_items": null,
            "bottom": null,
            "_model_module": "@jupyter-widgets/base",
            "top": null,
            "grid_column": null,
            "overflow_y": null,
            "overflow_x": null,
            "grid_auto_flow": null,
            "grid_area": null,
            "grid_template_columns": null,
            "flex": null,
            "_model_name": "LayoutModel",
            "justify_items": null,
            "grid_row": null,
            "max_height": null,
            "align_content": null,
            "visibility": null,
            "align_self": null,
            "height": null,
            "min_height": null,
            "padding": null,
            "grid_auto_rows": null,
            "grid_gap": null,
            "max_width": null,
            "order": null,
            "_view_module_version": "1.2.0",
            "grid_template_areas": null,
            "object_position": null,
            "object_fit": null,
            "grid_auto_columns": null,
            "margin": null,
            "display": null,
            "left": null
          }
        },
        "b0c0c78223b74cd096576e83c887f8d8": {
          "model_module": "@jupyter-widgets/controls",
          "model_name": "DescriptionStyleModel",
          "state": {
            "_view_name": "StyleView",
            "_model_name": "DescriptionStyleModel",
            "description_width": "",
            "_view_module": "@jupyter-widgets/base",
            "_model_module_version": "1.5.0",
            "_view_count": null,
            "_view_module_version": "1.2.0",
            "_model_module": "@jupyter-widgets/controls"
          }
        },
        "2d2c231ee6a14262a5973a82692a42aa": {
          "model_module": "@jupyter-widgets/base",
          "model_name": "LayoutModel",
          "state": {
            "_view_name": "LayoutView",
            "grid_template_rows": null,
            "right": null,
            "justify_content": null,
            "_view_module": "@jupyter-widgets/base",
            "overflow": null,
            "_model_module_version": "1.2.0",
            "_view_count": null,
            "flex_flow": null,
            "width": null,
            "min_width": null,
            "border": null,
            "align_items": null,
            "bottom": null,
            "_model_module": "@jupyter-widgets/base",
            "top": null,
            "grid_column": null,
            "overflow_y": null,
            "overflow_x": null,
            "grid_auto_flow": null,
            "grid_area": null,
            "grid_template_columns": null,
            "flex": null,
            "_model_name": "LayoutModel",
            "justify_items": null,
            "grid_row": null,
            "max_height": null,
            "align_content": null,
            "visibility": null,
            "align_self": null,
            "height": null,
            "min_height": null,
            "padding": null,
            "grid_auto_rows": null,
            "grid_gap": null,
            "max_width": null,
            "order": null,
            "_view_module_version": "1.2.0",
            "grid_template_areas": null,
            "object_position": null,
            "object_fit": null,
            "grid_auto_columns": null,
            "margin": null,
            "display": null,
            "left": null
          }
        }
      }
    }
  },
  "cells": [
    {
      "cell_type": "markdown",
      "metadata": {
        "id": "-19AXGubzx10"
      },
      "source": [
        "## VIDEO RECONSTRUCTION\n",
        "\n",
        "See [here]() for the full tutorial."
      ]
    },
    {
      "cell_type": "code",
      "metadata": {
        "colab": {
          "base_uri": "https://localhost:8080/"
        },
        "id": "KaYbxzUk9JdZ",
        "outputId": "34e49404-1365-4091-948e-bb81ab7b1ebf"
      },
      "source": [
        "# authenticate google and save model_full and model_balanced to drive\n",
        "from google.colab import drive\n",
        "drive.mount('/content/drive')"
      ],
      "execution_count": null,
      "outputs": [
        {
          "output_type": "stream",
          "text": [
            "Mounted at /content/drive\n"
          ],
          "name": "stdout"
        }
      ]
    },
    {
      "cell_type": "code",
      "metadata": {
        "id": "LH8cKqd7LNzK"
      },
      "source": [
        "MODEL_SAVE_DIR = \"/content/drive/MyDrive/tensorflow_facial_recognition_output_FINAL\""
      ],
      "execution_count": null,
      "outputs": []
    },
    {
      "cell_type": "code",
      "metadata": {
        "colab": {
          "base_uri": "https://localhost:8080/"
        },
        "id": "-8xu6MX59uHi",
        "outputId": "3e7ce09a-956e-42aa-ea35-0025a1eff943"
      },
      "source": [
        "! pip install tensorflow_addons face_recognition keras_vggface keras_applications"
      ],
      "execution_count": null,
      "outputs": [
        {
          "output_type": "stream",
          "text": [
            "Collecting tensorflow_addons\n",
            "\u001b[?25l  Downloading https://files.pythonhosted.org/packages/74/e3/56d2fe76f0bb7c88ed9b2a6a557e25e83e252aec08f13de34369cd850a0b/tensorflow_addons-0.12.1-cp37-cp37m-manylinux2010_x86_64.whl (703kB)\n",
            "\r\u001b[K     |▌                               | 10kB 25.0MB/s eta 0:00:01\r\u001b[K     |█                               | 20kB 15.2MB/s eta 0:00:01\r\u001b[K     |█▍                              | 30kB 13.4MB/s eta 0:00:01\r\u001b[K     |█▉                              | 40kB 12.3MB/s eta 0:00:01\r\u001b[K     |██▎                             | 51kB 8.2MB/s eta 0:00:01\r\u001b[K     |██▉                             | 61kB 7.7MB/s eta 0:00:01\r\u001b[K     |███▎                            | 71kB 8.6MB/s eta 0:00:01\r\u001b[K     |███▊                            | 81kB 9.6MB/s eta 0:00:01\r\u001b[K     |████▏                           | 92kB 10.1MB/s eta 0:00:01\r\u001b[K     |████▋                           | 102kB 8.0MB/s eta 0:00:01\r\u001b[K     |█████▏                          | 112kB 8.0MB/s eta 0:00:01\r\u001b[K     |█████▋                          | 122kB 8.0MB/s eta 0:00:01\r\u001b[K     |██████                          | 133kB 8.0MB/s eta 0:00:01\r\u001b[K     |██████▌                         | 143kB 8.0MB/s eta 0:00:01\r\u001b[K     |███████                         | 153kB 8.0MB/s eta 0:00:01\r\u001b[K     |███████▌                        | 163kB 8.0MB/s eta 0:00:01\r\u001b[K     |████████                        | 174kB 8.0MB/s eta 0:00:01\r\u001b[K     |████████▍                       | 184kB 8.0MB/s eta 0:00:01\r\u001b[K     |████████▉                       | 194kB 8.0MB/s eta 0:00:01\r\u001b[K     |█████████▎                      | 204kB 8.0MB/s eta 0:00:01\r\u001b[K     |█████████▉                      | 215kB 8.0MB/s eta 0:00:01\r\u001b[K     |██████████▎                     | 225kB 8.0MB/s eta 0:00:01\r\u001b[K     |██████████▊                     | 235kB 8.0MB/s eta 0:00:01\r\u001b[K     |███████████▏                    | 245kB 8.0MB/s eta 0:00:01\r\u001b[K     |███████████▋                    | 256kB 8.0MB/s eta 0:00:01\r\u001b[K     |████████████▏                   | 266kB 8.0MB/s eta 0:00:01\r\u001b[K     |████████████▋                   | 276kB 8.0MB/s eta 0:00:01\r\u001b[K     |█████████████                   | 286kB 8.0MB/s eta 0:00:01\r\u001b[K     |█████████████▌                  | 296kB 8.0MB/s eta 0:00:01\r\u001b[K     |██████████████                  | 307kB 8.0MB/s eta 0:00:01\r\u001b[K     |██████████████▍                 | 317kB 8.0MB/s eta 0:00:01\r\u001b[K     |███████████████                 | 327kB 8.0MB/s eta 0:00:01\r\u001b[K     |███████████████▍                | 337kB 8.0MB/s eta 0:00:01\r\u001b[K     |███████████████▉                | 348kB 8.0MB/s eta 0:00:01\r\u001b[K     |████████████████▎               | 358kB 8.0MB/s eta 0:00:01\r\u001b[K     |████████████████▊               | 368kB 8.0MB/s eta 0:00:01\r\u001b[K     |█████████████████▎              | 378kB 8.0MB/s eta 0:00:01\r\u001b[K     |█████████████████▊              | 389kB 8.0MB/s eta 0:00:01\r\u001b[K     |██████████████████▏             | 399kB 8.0MB/s eta 0:00:01\r\u001b[K     |██████████████████▋             | 409kB 8.0MB/s eta 0:00:01\r\u001b[K     |███████████████████             | 419kB 8.0MB/s eta 0:00:01\r\u001b[K     |███████████████████▋            | 430kB 8.0MB/s eta 0:00:01\r\u001b[K     |████████████████████            | 440kB 8.0MB/s eta 0:00:01\r\u001b[K     |████████████████████▌           | 450kB 8.0MB/s eta 0:00:01\r\u001b[K     |█████████████████████           | 460kB 8.0MB/s eta 0:00:01\r\u001b[K     |█████████████████████▍          | 471kB 8.0MB/s eta 0:00:01\r\u001b[K     |██████████████████████          | 481kB 8.0MB/s eta 0:00:01\r\u001b[K     |██████████████████████▍         | 491kB 8.0MB/s eta 0:00:01\r\u001b[K     |██████████████████████▉         | 501kB 8.0MB/s eta 0:00:01\r\u001b[K     |███████████████████████▎        | 512kB 8.0MB/s eta 0:00:01\r\u001b[K     |███████████████████████▊        | 522kB 8.0MB/s eta 0:00:01\r\u001b[K     |████████████████████████▎       | 532kB 8.0MB/s eta 0:00:01\r\u001b[K     |████████████████████████▊       | 542kB 8.0MB/s eta 0:00:01\r\u001b[K     |█████████████████████████▏      | 552kB 8.0MB/s eta 0:00:01\r\u001b[K     |█████████████████████████▋      | 563kB 8.0MB/s eta 0:00:01\r\u001b[K     |██████████████████████████      | 573kB 8.0MB/s eta 0:00:01\r\u001b[K     |██████████████████████████▋     | 583kB 8.0MB/s eta 0:00:01\r\u001b[K     |███████████████████████████     | 593kB 8.0MB/s eta 0:00:01\r\u001b[K     |███████████████████████████▌    | 604kB 8.0MB/s eta 0:00:01\r\u001b[K     |████████████████████████████    | 614kB 8.0MB/s eta 0:00:01\r\u001b[K     |████████████████████████████▍   | 624kB 8.0MB/s eta 0:00:01\r\u001b[K     |████████████████████████████▉   | 634kB 8.0MB/s eta 0:00:01\r\u001b[K     |█████████████████████████████▍  | 645kB 8.0MB/s eta 0:00:01\r\u001b[K     |█████████████████████████████▉  | 655kB 8.0MB/s eta 0:00:01\r\u001b[K     |██████████████████████████████▎ | 665kB 8.0MB/s eta 0:00:01\r\u001b[K     |██████████████████████████████▊ | 675kB 8.0MB/s eta 0:00:01\r\u001b[K     |███████████████████████████████▏| 686kB 8.0MB/s eta 0:00:01\r\u001b[K     |███████████████████████████████▊| 696kB 8.0MB/s eta 0:00:01\r\u001b[K     |████████████████████████████████| 706kB 8.0MB/s \n",
            "\u001b[?25hCollecting face_recognition\n",
            "  Downloading https://files.pythonhosted.org/packages/1e/95/f6c9330f54ab07bfa032bf3715c12455a381083125d8880c43cbe76bb3d0/face_recognition-1.3.0-py2.py3-none-any.whl\n",
            "Collecting keras_vggface\n",
            "  Downloading https://files.pythonhosted.org/packages/2f/7d/5f0319ebdc09ac1a2272364fa9583f5067b6f8aff93fbbf8835d81cbaad7/keras_vggface-0.6-py3-none-any.whl\n",
            "Collecting keras_applications\n",
            "\u001b[?25l  Downloading https://files.pythonhosted.org/packages/71/e3/19762fdfc62877ae9102edf6342d71b28fbfd9dea3d2f96a882ce099b03f/Keras_Applications-1.0.8-py3-none-any.whl (50kB)\n",
            "\u001b[K     |████████████████████████████████| 51kB 8.9MB/s \n",
            "\u001b[?25hRequirement already satisfied: typeguard>=2.7 in /usr/local/lib/python3.7/dist-packages (from tensorflow_addons) (2.7.1)\n",
            "Requirement already satisfied: Click>=6.0 in /usr/local/lib/python3.7/dist-packages (from face_recognition) (7.1.2)\n",
            "Collecting face-recognition-models>=0.3.0\n",
            "\u001b[?25l  Downloading https://files.pythonhosted.org/packages/cf/3b/4fd8c534f6c0d1b80ce0973d01331525538045084c73c153ee6df20224cf/face_recognition_models-0.3.0.tar.gz (100.1MB)\n",
            "\u001b[K     |████████████████████████████████| 100.2MB 104kB/s \n",
            "\u001b[?25hRequirement already satisfied: numpy in /usr/local/lib/python3.7/dist-packages (from face_recognition) (1.19.5)\n",
            "Requirement already satisfied: Pillow in /usr/local/lib/python3.7/dist-packages (from face_recognition) (7.0.0)\n",
            "Requirement already satisfied: dlib>=19.7 in /usr/local/lib/python3.7/dist-packages (from face_recognition) (19.18.0)\n",
            "Requirement already satisfied: keras in /usr/local/lib/python3.7/dist-packages (from keras_vggface) (2.4.3)\n",
            "Requirement already satisfied: scipy>=0.14 in /usr/local/lib/python3.7/dist-packages (from keras_vggface) (1.4.1)\n",
            "Requirement already satisfied: h5py in /usr/local/lib/python3.7/dist-packages (from keras_vggface) (2.10.0)\n",
            "Requirement already satisfied: pyyaml in /usr/local/lib/python3.7/dist-packages (from keras_vggface) (3.13)\n",
            "Requirement already satisfied: six>=1.9.0 in /usr/local/lib/python3.7/dist-packages (from keras_vggface) (1.15.0)\n",
            "Building wheels for collected packages: face-recognition-models\n",
            "  Building wheel for face-recognition-models (setup.py) ... \u001b[?25l\u001b[?25hdone\n",
            "  Created wheel for face-recognition-models: filename=face_recognition_models-0.3.0-py2.py3-none-any.whl size=100566173 sha256=ee0989c58f432985977b2bd21c1f742c28679a3e01ac7142db79559d2ffaf850\n",
            "  Stored in directory: /root/.cache/pip/wheels/d2/99/18/59c6c8f01e39810415c0e63f5bede7d83dfb0ffc039865465f\n",
            "Successfully built face-recognition-models\n",
            "Installing collected packages: tensorflow-addons, face-recognition-models, face-recognition, keras-vggface, keras-applications\n",
            "Successfully installed face-recognition-1.3.0 face-recognition-models-0.3.0 keras-applications-1.0.8 keras-vggface-0.6 tensorflow-addons-0.12.1\n"
          ],
          "name": "stdout"
        }
      ]
    },
    {
      "cell_type": "code",
      "metadata": {
        "id": "ausflN8N-eP3"
      },
      "source": [
        "!gdown -q https://drive.google.com/uc?id=1bhR5WTXID9kTxlMmgbKwf3t8-PQUIbTo\n",
        "!unzip -q /content/destinys_child_data.zip"
      ],
      "execution_count": null,
      "outputs": []
    },
    {
      "cell_type": "code",
      "metadata": {
        "id": "JvuDE6zc9JkQ"
      },
      "source": [
        "import tensorflow as tf\n",
        "tf.config.run_functions_eagerly(True)\n",
        "import tensorflow_addons as tfa\n",
        "import tensorflow.keras as keras\n",
        "import matplotlib.pyplot as plt\n",
        "import cv2\n",
        "import face_recognition\n",
        "import os\n",
        "import numpy as np\n",
        "import tqdm\n",
        "import tqdm.notebook"
      ],
      "execution_count": null,
      "outputs": []
    },
    {
      "cell_type": "code",
      "metadata": {
        "id": "nZ4LwIUr9Jmj"
      },
      "source": [
        "from keras_vggface import VGGFace\n",
        "from keras import Model\n",
        "from keras.layers import Dense, Flatten, Softmax\n",
        "\n",
        "class_names = ['beyonce', 'kelly', 'michelle', 'unknown']\n",
        "\n",
        "class RecognitionModel(Model):\n",
        "  def __init__(self, input_len=224, classes=len(class_names)):\n",
        "    super(RecognitionModel, self).__init__()\n",
        "    self.vggface = VGGFace(include_top=False, model='vgg16', weights='vggface', \n",
        "              input_tensor=None, input_shape=(input_len, input_len, 3), pooling=None,\n",
        "              classes=classes)\n",
        "    self.flatten = Flatten()\n",
        "    self.d1 = Dense(8192, activation='relu')\n",
        "    self.d2 = Dense(1024, activation='relu')\n",
        "    self.dc = Dense(classes)\n",
        "\n",
        "  def call(self, x):\n",
        "    x = self.vggface(x)\n",
        "    x = self.flatten(x)\n",
        "    x = self.dc(self.d2(self.d1(x)))\n",
        "    return x"
      ],
      "execution_count": null,
      "outputs": []
    },
    {
      "cell_type": "code",
      "metadata": {
        "colab": {
          "base_uri": "https://localhost:8080/"
        },
        "id": "8OFrUyDc9JqF",
        "outputId": "3bee7e87-dfd0-4002-e243-57341780d3ba"
      },
      "source": [
        "model_full = RecognitionModel()\n",
        "model_full.build(input_shape=(None, 224, 224, 3))\n",
        "\n",
        "model_balanced = RecognitionModel()\n",
        "model_balanced.build(input_shape=(None, 224, 224, 3))"
      ],
      "execution_count": null,
      "outputs": [
        {
          "output_type": "stream",
          "text": [
            "Downloading data from https://github.com/rcmalli/keras-vggface/releases/download/v2.0/rcmalli_vggface_tf_notop_vgg16.h5\n",
            "58916864/58909280 [==============================] - 2s 0us/step\n"
          ],
          "name": "stdout"
        }
      ]
    },
    {
      "cell_type": "code",
      "metadata": {
        "id": "4ZNc6hwz-Y7X"
      },
      "source": [
        "@tf.function\n",
        "def eval_step_full(test_images):\n",
        "  # training=False is only needed if there are layers with different\n",
        "  # behavior during training versus inference (e.g. Dropout).\n",
        "  logits = model_full(test_images, training=False)\n",
        "  sfmax = tf.nn.softmax(logits, axis=-1)\n",
        "  predictions = tf.cast(tf.equal(sfmax, np.max(sfmax, axis=1, keepdims=True)), tf.int64)\n",
        "  return predictions\n",
        "\n",
        "@tf.function\n",
        "def eval_step_balanced(test_images):\n",
        "  # training=False is only needed if there are layers with different\n",
        "  # behavior during training versus inference (e.g. Dropout).\n",
        "  logits = model_balanced(test_images, training=False)\n",
        "  sfmax = tf.nn.softmax(logits, axis=-1)\n",
        "  predictions = tf.cast(tf.equal(sfmax, np.max(sfmax, axis=1, keepdims=True)), tf.int64)\n",
        "  return predictions"
      ],
      "execution_count": null,
      "outputs": []
    },
    {
      "cell_type": "code",
      "metadata": {
        "colab": {
          "base_uri": "https://localhost:8080/",
          "height": 382,
          "referenced_widgets": [
            "9a92f8ea019144cab200edabbb0bff89",
            "04c72079661e41e3aadaadf823475d4b",
            "7f7c4f9d06e648e3ade6e3368c7ad75e",
            "d450bd4da50c404cbb423d9f461ca2b6",
            "40160e9159b24217b303b73f58a565f6",
            "15b0bba0b5fa4c2aa5ee47f660f48943",
            "2c5ce08dbfe84d35befc61ed2c1236be",
            "85d7057f1a28469396ff83b6ee63b135",
            "63b711e091e44ac3bdd23dd7cf7c2f45",
            "d4d9048c4a6544d9af984c328e35bfa7",
            "12c53c6372bb4e389d486b1c1ee2c9c8",
            "17a00f17b25b427fa5fae8ebf8cfe7a8",
            "fdf5b606861b4322ad44ee5342ddaa33",
            "683e45f885204e03a02c6a96a771a84c",
            "6d65d77dbc58481b935df5579689969b",
            "c0fb42cca9774643a581856d5c26870f",
            "7135d78a5a14411e932a5d978044e0a1",
            "71be2f90a4ae49ae9277931eeea916a6",
            "bacd359b424a4cc785c9ddca0c278a27",
            "7ee520aa8bdb4e38b9f6158b1bf1eeb4",
            "a71031a261024e16a087208595181e36",
            "ee62ef3dbf164f92bc410502403ae61e",
            "772282a379704750892d00064ef7e116",
            "87dd6c89d7014be28ddf2ce4510a594e",
            "b2e876a8b5154ff4b1f298fda2edd248",
            "d23cd059484c4845888632a49cc35296",
            "a8db030543a4464db0b7333693f6fbd5",
            "93c3984a4bd34ae898d9047d698fb2bb",
            "62255f99770d43cbbfaf87ebb5af2420",
            "97d81eb1614545c9aa618905b69f059e",
            "cfa56a8e1cf74d189ba1063760ff9028",
            "6d88b2c23c704a8f9f6d2a74d51774bc",
            "352da7517d144b449d39a4b228d09f54",
            "081ec23b5fc042288b1eeaa9ae3b8e16",
            "2e0bac99ecc949c3a986aed7495adca4",
            "8d70afd5a1b24401ac18da4af074c01b",
            "f5be75d16377483c8fc10b724503622d",
            "fddedb60b4c74182924d9f560954d0c1",
            "b0c0c78223b74cd096576e83c887f8d8",
            "2d2c231ee6a14262a5973a82692a42aa"
          ]
        },
        "id": "mqEfBicX-Nza",
        "outputId": "cb5b7555-8b40-4431-a390-129f1271052a"
      },
      "source": [
        "raw_base = '/content/destinys_child_data/raw'\n",
        "all_videos = [os.path.join(raw_base, f) for f in os.listdir(raw_base) if f.split('.')[-1] == 'mp4']\n",
        "print(all_videos)\n",
        "\n",
        "colors = {\n",
        "    'beyonce': (181, 23, 158),\n",
        "    'kelly': (114, 9, 183),\n",
        "    'michelle': (76, 201, 240),\n",
        "    'unknown': (255, 0, 0),\n",
        "}\n",
        "\n",
        "model_full.load_weights(os.path.join(MODEL_SAVE_DIR, 'output_models/model_full', 'model_full.ckpt'))\n",
        "model_balanced.load_weights(os.path.join(MODEL_SAVE_DIR, 'output_models/model_balanced', 'model_balanced.ckpt'))\n",
        "\n",
        "# add text centered on image\n",
        "\n",
        "def get_canon_name(video):\n",
        "  return '_'.join(video.split('.')[0].split('/')[-1].split('_'))\n",
        "keep = ['Soldier', 'Emotion', 'Bootylicious', 'Cater_2_U', 'Survivor']\n",
        "\n",
        "for video in sorted(all_videos, key=lambda x: 100 if get_canon_name(x) not in keep else keep.index(get_canon_name(x))):\n",
        "    SUBDIR_FULL = 'FULL'\n",
        "    SUBDIR_BAL = 'BALANCED'\n",
        "    canon_name = get_canon_name(video)\n",
        "    if canon_name not in keep:\n",
        "      continue\n",
        "    new_path_f = os.path.join(MODEL_SAVE_DIR, 'VIDEO_FRAMES', SUBDIR_FULL, canon_name)\n",
        "    new_path_b = os.path.join(MODEL_SAVE_DIR, 'VIDEO_FRAMES', SUBDIR_BAL, canon_name)\n",
        "    os.makedirs(new_path_f, exist_ok=True)\n",
        "    os.makedirs(new_path_b, exist_ok=True)\n",
        "    print(canon_name)\n",
        "    cap = cv2.VideoCapture(video)\n",
        "    width  = cap.get(cv2.CAP_PROP_FRAME_WIDTH)   # float `width`\n",
        "    height = cap.get(cv2.CAP_PROP_FRAME_HEIGHT)\n",
        "    fps = cap.get(cv2.CAP_PROP_FPS)\n",
        "    frames = cap.get(cv2.CAP_PROP_FRAME_COUNT)\n",
        "    success, image = cap.read()\n",
        "    total = 0\n",
        "    pbar = tqdm.notebook.tqdm(total=frames)\n",
        "    font = cv2.FONT_HERSHEY_SIMPLEX\n",
        "    header_full = \"FULL DATASET\"\n",
        "    header_bal = \"BALANCED DATASET\"\n",
        "    # get boundary of this text\n",
        "    textsize_full = cv2.getTextSize(header_full, font, 0.5, 2)[0]\n",
        "    textsize_bal = cv2.getTextSize(header_bal, font, 0.5, 2)[0]\n",
        "    # get coords based on boundary\n",
        "    textX_full = int((image.shape[1] - textsize_full[0]) / 2)\n",
        "    textY_full = int((image.shape[0] + textsize_full[1]) / 2 - (4 * height / 10))\n",
        "    textX_bal = int((image.shape[1] - textsize_bal[0]) / 2)\n",
        "    textY_bal = int((image.shape[0] + textsize_bal[1]) / 2 - (4 * height / 10))\n",
        "    while success:\n",
        "      image = cv2.cvtColor(image, cv2.COLOR_BGR2RGB)\n",
        "      image_full = image.copy()\n",
        "      image_bal = image.copy()\n",
        "      cv2.putText(image_full, header_full, (textX_full, textY_full), font, 0.5, (255, 255, 255), 2)\n",
        "      cv2.putText(image_bal, header_bal, (textX_full, textY_full), font, 0.5, (255, 255, 255), 2)\n",
        "      faces = face_recognition.face_locations(image)\n",
        "      if len(faces) > 0:\n",
        "        im_orig = image.copy()\n",
        "        for y1, x1, y2, x2 in faces:\n",
        "          face_im = im_orig[y1:y2, x2:x1].copy()\n",
        "          face_im = keras.preprocessing.image.smart_resize(face_im, (224, 224))\n",
        "          face_im.resize((1, 224, 224, 3))\n",
        "          one_hot = eval_step_full(face_im)\n",
        "          prediction = np.argmax(one_hot)\n",
        "          pred_name = class_names[prediction]\n",
        "          cv2.rectangle(image_full, (x1, y1), (x2, y2), colors[pred_name], 2)\n",
        "          cv2.putText(image_full, pred_name,(x2, y1-5), font,  \n",
        "                    0.55, colors[pred_name], 1, cv2.LINE_AA)\n",
        "          one_hot = eval_step_balanced(face_im)\n",
        "          prediction = np.argmax(one_hot)\n",
        "          pred_name = class_names[prediction]\n",
        "          cv2.rectangle(image_bal, (x1, y1), (x2, y2), colors[pred_name], 2)\n",
        "          cv2.putText(image_bal, pred_name,(x2, y1-5), font,  \n",
        "                    0.55, colors[pred_name], 1, cv2.LINE_AA)\n",
        "          \n",
        "      plt.imsave(os.path.join(new_path_f ,'frame_%d.jpg' % total), image_full)\n",
        "      plt.imsave(os.path.join(new_path_b ,'frame_%d.jpg' % total), image_bal)\n",
        "      success, image = cap.read()\n",
        "      total += 1\n",
        "      pbar.update(1)\n",
        "    cap.release()\n",
        "    print('Completed %s' % canon_name)  "
      ],
      "execution_count": null,
      "outputs": [
        {
          "output_type": "stream",
          "text": [
            "['/content/destinys_child_data/raw/Soldier.mp4', '/content/destinys_child_data/raw/Cater_2_U.mp4', '/content/destinys_child_data/raw/Bootylicious.mp4', '/content/destinys_child_data/raw/With_Me_Part_1.mp4', '/content/destinys_child_data/raw/Me_Myself_and_I.mp4', '/content/destinys_child_data/raw/Stand_Up_For_Love.mp4', '/content/destinys_child_data/raw/Survivor.mp4', '/content/destinys_child_data/raw/No_No_No.mp4', '/content/destinys_child_data/raw/Emotion.mp4', '/content/destinys_child_data/raw/Lose_My_Breath.mp4', '/content/destinys_child_data/raw/Bug_A_Boo.mp4', '/content/destinys_child_data/raw/Bills_Bills_Bills.mp4', '/content/destinys_child_data/raw/8_Days_of_Christmas.mp4', '/content/destinys_child_data/raw/Nasty_Girl.mp4', '/content/destinys_child_data/raw/Independent_Women_Part_1.mp4', '/content/destinys_child_data/raw/Get_On_The_Bus.mp4', '/content/destinys_child_data/raw/Say_My_Name.mp4', '/content/destinys_child_data/raw/Jumpin_Jumpin.mp4']\n",
            "Soldier\n"
          ],
          "name": "stdout"
        },
        {
          "output_type": "display_data",
          "data": {
            "application/vnd.jupyter.widget-view+json": {
              "model_id": "9a92f8ea019144cab200edabbb0bff89",
              "version_minor": 0,
              "version_major": 2
            },
            "text/plain": [
              "HBox(children=(FloatProgress(value=0.0, max=7312.0), HTML(value='')))"
            ]
          },
          "metadata": {
            "tags": []
          }
        },
        {
          "output_type": "stream",
          "text": [
            "Completed Soldier\n",
            "Emotion\n"
          ],
          "name": "stdout"
        },
        {
          "output_type": "display_data",
          "data": {
            "application/vnd.jupyter.widget-view+json": {
              "model_id": "63b711e091e44ac3bdd23dd7cf7c2f45",
              "version_minor": 0,
              "version_major": 2
            },
            "text/plain": [
              "HBox(children=(FloatProgress(value=0.0, max=7055.0), HTML(value='')))"
            ]
          },
          "metadata": {
            "tags": []
          }
        },
        {
          "output_type": "stream",
          "text": [
            "Completed Emotion\n",
            "Bootylicious\n"
          ],
          "name": "stdout"
        },
        {
          "output_type": "display_data",
          "data": {
            "application/vnd.jupyter.widget-view+json": {
              "model_id": "7135d78a5a14411e932a5d978044e0a1",
              "version_minor": 0,
              "version_major": 2
            },
            "text/plain": [
              "HBox(children=(FloatProgress(value=0.0, max=6256.0), HTML(value='')))"
            ]
          },
          "metadata": {
            "tags": []
          }
        },
        {
          "output_type": "stream",
          "text": [
            "Completed Bootylicious\n",
            "Cater_2_U\n"
          ],
          "name": "stdout"
        },
        {
          "output_type": "display_data",
          "data": {
            "application/vnd.jupyter.widget-view+json": {
              "model_id": "b2e876a8b5154ff4b1f298fda2edd248",
              "version_minor": 0,
              "version_major": 2
            },
            "text/plain": [
              "HBox(children=(FloatProgress(value=0.0, max=7477.0), HTML(value='')))"
            ]
          },
          "metadata": {
            "tags": []
          }
        },
        {
          "output_type": "stream",
          "text": [
            "Completed Cater_2_U\n",
            "Survivor\n"
          ],
          "name": "stdout"
        },
        {
          "output_type": "display_data",
          "data": {
            "application/vnd.jupyter.widget-view+json": {
              "model_id": "352da7517d144b449d39a4b228d09f54",
              "version_minor": 0,
              "version_major": 2
            },
            "text/plain": [
              "HBox(children=(FloatProgress(value=0.0, max=7446.0), HTML(value='')))"
            ]
          },
          "metadata": {
            "tags": []
          }
        },
        {
          "output_type": "stream",
          "text": [
            "Completed Survivor\n"
          ],
          "name": "stdout"
        }
      ]
    }
  ]
}